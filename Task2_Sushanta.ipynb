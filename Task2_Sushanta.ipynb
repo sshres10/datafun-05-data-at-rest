{
 "cells": [
  {
   "cell_type": "code",
   "execution_count": 30,
   "metadata": {},
   "outputs": [],
   "source": [
    "In [1]: import sqlite3\n",
    " \n",
    "In [2]: connection = sqlite3.connect('books.db')"
   ]
  },
  {
   "cell_type": "code",
   "execution_count": 31,
   "metadata": {},
   "outputs": [],
   "source": [
    "# Import the pandas module\n",
    "import pandas as pd\n",
    "\n",
    "# Set the maximum number of columns to be displayed to 10\n",
    "pd.options.display.max_columns = 10\n",
    "\n",
    "# Use the read_sql function from pandas to execute a SQL query and store the result in a DataFrame\n",
    "# The SQL query selects all records from the 'authors' table in the database\n",
    "df = pd.read_sql('SELECT * FROM authors', connection, index_col=['id'])\n"
   ]
  },
  {
   "cell_type": "code",
   "execution_count": 32,
   "metadata": {},
   "outputs": [],
   "source": [
    "\n",
    "# The SQL query selects all records from the 'titles' table in the database\n",
    "\n",
    "df = pd.read_sql('SELECT * FROM titles', connection)\n"
   ]
  },
  {
   "cell_type": "code",
   "execution_count": 33,
   "metadata": {},
   "outputs": [
    {
     "data": {
      "text/html": [
       "<div>\n",
       "<style scoped>\n",
       "    .dataframe tbody tr th:only-of-type {\n",
       "        vertical-align: middle;\n",
       "    }\n",
       "\n",
       "    .dataframe tbody tr th {\n",
       "        vertical-align: top;\n",
       "    }\n",
       "\n",
       "    .dataframe thead th {\n",
       "        text-align: right;\n",
       "    }\n",
       "</style>\n",
       "<table border=\"1\" class=\"dataframe\">\n",
       "  <thead>\n",
       "    <tr style=\"text-align: right;\">\n",
       "      <th></th>\n",
       "      <th>isbn</th>\n",
       "      <th>title</th>\n",
       "      <th>edition</th>\n",
       "      <th>copyright</th>\n",
       "    </tr>\n",
       "  </thead>\n",
       "  <tbody>\n",
       "    <tr>\n",
       "      <th>0</th>\n",
       "      <td>0135404673</td>\n",
       "      <td>Intro to Python for CS and DS</td>\n",
       "      <td>1</td>\n",
       "      <td>2020</td>\n",
       "    </tr>\n",
       "    <tr>\n",
       "      <th>1</th>\n",
       "      <td>0132151006</td>\n",
       "      <td>Internet &amp; WWW How to Program</td>\n",
       "      <td>5</td>\n",
       "      <td>2012</td>\n",
       "    </tr>\n",
       "    <tr>\n",
       "      <th>2</th>\n",
       "      <td>0134743350</td>\n",
       "      <td>Java How to Program</td>\n",
       "      <td>11</td>\n",
       "      <td>2018</td>\n",
       "    </tr>\n",
       "    <tr>\n",
       "      <th>3</th>\n",
       "      <td>0133976890</td>\n",
       "      <td>C How to Program</td>\n",
       "      <td>8</td>\n",
       "      <td>2016</td>\n",
       "    </tr>\n",
       "    <tr>\n",
       "      <th>4</th>\n",
       "      <td>0133406954</td>\n",
       "      <td>Visual Basic 2012 How to Program</td>\n",
       "      <td>6</td>\n",
       "      <td>2014</td>\n",
       "    </tr>\n",
       "  </tbody>\n",
       "</table>\n",
       "</div>"
      ],
      "text/plain": [
       "         isbn                             title  edition copyright\n",
       "0  0135404673     Intro to Python for CS and DS        1      2020\n",
       "1  0132151006     Internet & WWW How to Program        5      2012\n",
       "2  0134743350               Java How to Program       11      2018\n",
       "3  0133976890                  C How to Program        8      2016\n",
       "4  0133406954  Visual Basic 2012 How to Program        6      2014"
      ]
     },
     "execution_count": 33,
     "metadata": {},
     "output_type": "execute_result"
    }
   ],
   "source": [
    "df.head()"
   ]
  },
  {
   "cell_type": "code",
   "execution_count": 34,
   "metadata": {},
   "outputs": [],
   "source": [
    "# Use the read_sql function from pandas to execute a SQL query and store the result in a DataFrame\n",
    "# The SQL query selects the 'first' and 'last' columns from the 'authors' table in the database\n",
    "df = pd.read_sql('SELECT first, last FROM authors', connection)\n"
   ]
  },
  {
   "cell_type": "code",
   "execution_count": 35,
   "metadata": {},
   "outputs": [
    {
     "data": {
      "text/html": [
       "<div>\n",
       "<style scoped>\n",
       "    .dataframe tbody tr th:only-of-type {\n",
       "        vertical-align: middle;\n",
       "    }\n",
       "\n",
       "    .dataframe tbody tr th {\n",
       "        vertical-align: top;\n",
       "    }\n",
       "\n",
       "    .dataframe thead th {\n",
       "        text-align: right;\n",
       "    }\n",
       "</style>\n",
       "<table border=\"1\" class=\"dataframe\">\n",
       "  <thead>\n",
       "    <tr style=\"text-align: right;\">\n",
       "      <th></th>\n",
       "      <th>first</th>\n",
       "      <th>last</th>\n",
       "    </tr>\n",
       "  </thead>\n",
       "  <tbody>\n",
       "    <tr>\n",
       "      <th>0</th>\n",
       "      <td>Paul</td>\n",
       "      <td>Deitel</td>\n",
       "    </tr>\n",
       "    <tr>\n",
       "      <th>1</th>\n",
       "      <td>Harvey</td>\n",
       "      <td>Deitel</td>\n",
       "    </tr>\n",
       "    <tr>\n",
       "      <th>2</th>\n",
       "      <td>Abbey</td>\n",
       "      <td>Deitel</td>\n",
       "    </tr>\n",
       "    <tr>\n",
       "      <th>3</th>\n",
       "      <td>Dan</td>\n",
       "      <td>Quirk</td>\n",
       "    </tr>\n",
       "    <tr>\n",
       "      <th>4</th>\n",
       "      <td>Alexander</td>\n",
       "      <td>Wald</td>\n",
       "    </tr>\n",
       "  </tbody>\n",
       "</table>\n",
       "</div>"
      ],
      "text/plain": [
       "       first    last\n",
       "0       Paul  Deitel\n",
       "1     Harvey  Deitel\n",
       "2      Abbey  Deitel\n",
       "3        Dan   Quirk\n",
       "4  Alexander    Wald"
      ]
     },
     "execution_count": 35,
     "metadata": {},
     "output_type": "execute_result"
    }
   ],
   "source": [
    "df.head()"
   ]
  },
  {
   "cell_type": "code",
   "execution_count": 36,
   "metadata": {},
   "outputs": [],
   "source": [
    "\n",
    "# The SQL query selects the 'title' column from the 'titles' table in the database\n",
    "# The results are ordered in ascending order by the 'title'ase\n",
    "df = pd.read_sql('SELECT title FROM titles ORDER BY title ASC', connection)\n"
   ]
  },
  {
   "cell_type": "code",
   "execution_count": 37,
   "metadata": {},
   "outputs": [],
   "source": [
    "\n",
    "\n",
    "# Now you can use pandas (as 'pd') in your script\n",
    "df = pd.read_sql('''SELECT isbn, title, edition, copyright\n",
    "                   FROM titles\n",
    "                   WHERE title LIKE '%How to Program'\n",
    "                   ORDER BY title''', connection)\n"
   ]
  },
  {
   "cell_type": "code",
   "execution_count": 38,
   "metadata": {},
   "outputs": [],
   "source": [
    "\n",
    "# The SQL query selects the 'first', 'last', and 'isbn' columns from the 'authors' and 'author_ISBN' tables in the database\n",
    "# It uses an INNER JOIN to merge rows from both tables where the 'id' column matches\n",
    "df = pd.read_sql('''SELECT first, last, isbn\n",
    "                   FROM authors\n",
    "                   INNER JOIN author_ISBN\n",
    "                       ON authors.id = author_ISBN.id\n",
    "                   ORDER BY last, first''', connection).head()\n"
   ]
  },
  {
   "cell_type": "code",
   "execution_count": 39,
   "metadata": {},
   "outputs": [],
   "source": [
    "# The Cursor object is used to execute SQL commands\n",
    "cursor = connection.cursor()"
   ]
  },
  {
   "cell_type": "code",
   "execution_count": 40,
   "metadata": {},
   "outputs": [],
   "source": [
    "# The 'index_col' parameter specifies that the 'id' column from the 'authors' table should be used as the index of the DataFrame\n",
    "df = pd.read_sql('SELECT id, first, last FROM authors', connection, index_col=['id'])"
   ]
  },
  {
   "cell_type": "code",
   "execution_count": 43,
   "metadata": {},
   "outputs": [
    {
     "data": {
      "text/plain": [
       "<sqlite3.Cursor at 0x17971cbe340>"
      ]
     },
     "execution_count": 43,
     "metadata": {},
     "output_type": "execute_result"
    }
   ],
   "source": [
    "# Create a cursor object using the connection\n",
    "cursor = connection.cursor()\n",
    "\n",
    "# Execute an SQL statement to insert a new author into the authors table\n",
    "# The SQL keywords INSERT INTO are followed by the table in which to insert the new row and a comma-separated list of column names in parentheses.\n",
    "\n",
    "\n",
    "cursor.execute('''INSERT INTO authors (first, last)\n",
    "                  VALUES ('Sue', 'Red')''')\n"
   ]
  },
  {
   "cell_type": "code",
   "execution_count": 44,
   "metadata": {},
   "outputs": [],
   "source": [
    "# Create a cursor object using the connection\n",
    "cursor = connection.cursor()\n",
    "\n",
    "# Execute an SQL statement to update the 'last' name of the author 'Sue' in the authors table\n",
    "# The SQL keywords UPDATE are followed by the table in which to update the row and a SET clause that specifies the column to update and the new value.\n",
    "# The WHERE clause specifies which rows to update, in this case, rows where 'last' is 'Red' and 'first' is 'Sue'.\n",
    "cursor.execute('''UPDATE authors SET last='Black'\n",
    "                  WHERE last='Red' AND first='Sue' ''')\n",
    "\n",
    "# Commit the transaction\n",
    "connection.commit()\n"
   ]
  },
  {
   "cell_type": "code",
   "execution_count": 46,
   "metadata": {},
   "outputs": [
    {
     "name": "stdout",
     "output_type": "stream",
     "text": [
      "Number of rows deleted:  0\n",
      "        first    last\n",
      "id                   \n",
      "1        Paul  Deitel\n",
      "2      Harvey  Deitel\n",
      "3       Abbey  Deitel\n",
      "4         Dan   Quirk\n",
      "5   Alexander    Wald\n",
      "7         Sue   Black\n",
      "8         Sue   Black\n",
      "9         Sue   Black\n",
      "10        Sue   Black\n",
      "11        Sue   Black\n"
     ]
    }
   ],
   "source": [
    "\n",
    "\n",
    "# Execute an SQL statement to delete the author with id 6 from the authors table\n",
    "# The SQL keywords DELETE FROM are followed by the table from which to delete the row.\n",
    "# The WHERE clause specifies which rows to delete, in this case, the row where 'id' is 6.\n",
    "cursor.execute('DELETE FROM authors WHERE id=6')\n",
    "\n",
    "# Commit the transaction\n",
    "connection.commit()\n",
    "\n",
    "# Check the number of rows affected by the DELETE operation\n",
    "print(\"Number of rows deleted: \", cursor.rowcount)\n",
    "\n",
    "# Execute an SQL query to fetch the updated authors data\n",
    "df = pd.read_sql('SELECT id, first, last FROM authors', connection, index_col=['id'])\n",
    "\n",
    "# Print the DataFrame\n",
    "print(df)\n"
   ]
  }
 ],
 "metadata": {
  "kernelspec": {
   "display_name": "Python (.venv)",
   "language": "python",
   "name": ".venv"
  },
  "language_info": {
   "codemirror_mode": {
    "name": "ipython",
    "version": 3
   },
   "file_extension": ".py",
   "mimetype": "text/x-python",
   "name": "python",
   "nbconvert_exporter": "python",
   "pygments_lexer": "ipython3",
   "version": "3.11.4"
  },
  "orig_nbformat": 4
 },
 "nbformat": 4,
 "nbformat_minor": 2
}
